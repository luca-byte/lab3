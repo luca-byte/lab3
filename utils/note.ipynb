{
 "cells": [
  {
   "cell_type": "code",
   "execution_count": null,
   "metadata": {},
   "outputs": [],
   "source": [
    "import torch \n",
    "from torch import nn\n",
    "from train import train\n",
    "from eval import validate\n",
    "from data.loader import train_loader, val_loader\n",
    "from models.customnet import CustomNet"
   ]
  },
  {
   "cell_type": "code",
   "execution_count": null,
   "metadata": {},
   "outputs": [],
   "source": [
    "model = CustomNet().cuda()\n",
    "criterion = nn.CrossEntropyLoss()\n",
    "optimizer = torch.optim.SGD(model.parameters(), lr=0.001, momentum=0.9)\n",
    "\n",
    "best_acc = 0\n",
    "\n",
    "# Run the training process for {num_epochs} epochs\n",
    "num_epochs = 10\n",
    "for epoch in range(1, num_epochs + 1):\n",
    "    train(epoch, model, train_loader, criterion, optimizer)\n",
    "\n",
    "    # At the end of each training iteration, perform a validation step\n",
    "    val_accuracy = validate(model, val_loader, criterion)\n",
    "\n",
    "    # Best validation accuracy\n",
    "    best_acc = max(best_acc, val_accuracy)\n",
    "\n",
    "\n",
    "print(f'Best validation accuracy: {best_acc:.2f}%')"
   ]
  }
 ],
 "metadata": {
  "language_info": {
   "name": "python"
  }
 },
 "nbformat": 4,
 "nbformat_minor": 2
}
